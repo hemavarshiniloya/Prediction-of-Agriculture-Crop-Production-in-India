{
 "cells": [
  {
   "cell_type": "markdown",
   "id": "93cda90a",
   "metadata": {},
   "source": [
    "Data Collection"
   ]
  },
  {
   "cell_type": "code",
   "execution_count": 1,
   "id": "be48ee84",
   "metadata": {},
   "outputs": [],
   "source": [
    "import numpy as np\n",
    "import pandas as pd\n",
    "import matplotlib.pyplot as plt\n",
    "import seaborn as sns"
   ]
  },
  {
   "cell_type": "code",
   "execution_count": 2,
   "id": "0a098064",
   "metadata": {},
   "outputs": [],
   "source": [
    "#Data Collection\n",
    "data=pd.read_csv(\"C:\\\\Users\\\\hemav\\\\Downloads\\\\datafile - datafile.csv\") "
   ]
  },
  {
   "cell_type": "raw",
   "id": "a67187df",
   "metadata": {},
   "source": [
    "Data Preprocessing"
   ]
  },
  {
   "cell_type": "code",
   "execution_count": 3,
   "id": "846c5d35",
   "metadata": {},
   "outputs": [
    {
     "data": {
      "text/html": [
       "<div>\n",
       "<style scoped>\n",
       "    .dataframe tbody tr th:only-of-type {\n",
       "        vertical-align: middle;\n",
       "    }\n",
       "\n",
       "    .dataframe tbody tr th {\n",
       "        vertical-align: top;\n",
       "    }\n",
       "\n",
       "    .dataframe thead th {\n",
       "        text-align: right;\n",
       "    }\n",
       "</style>\n",
       "<table border=\"1\" class=\"dataframe\">\n",
       "  <thead>\n",
       "    <tr style=\"text-align: right;\">\n",
       "      <th></th>\n",
       "      <th>Crop</th>\n",
       "      <th>2004-05</th>\n",
       "      <th>2005-06</th>\n",
       "      <th>2006-07</th>\n",
       "      <th>2007-08</th>\n",
       "      <th>2008-09</th>\n",
       "      <th>2009-10</th>\n",
       "      <th>2010-11</th>\n",
       "      <th>2011-12</th>\n",
       "    </tr>\n",
       "  </thead>\n",
       "  <tbody>\n",
       "    <tr>\n",
       "      <th>0</th>\n",
       "      <td>Rice</td>\n",
       "      <td>100</td>\n",
       "      <td>101</td>\n",
       "      <td>99</td>\n",
       "      <td>105</td>\n",
       "      <td>112</td>\n",
       "      <td>121</td>\n",
       "      <td>117</td>\n",
       "      <td>110</td>\n",
       "    </tr>\n",
       "    <tr>\n",
       "      <th>1</th>\n",
       "      <td>Wheat</td>\n",
       "      <td>100</td>\n",
       "      <td>101</td>\n",
       "      <td>112</td>\n",
       "      <td>115</td>\n",
       "      <td>117</td>\n",
       "      <td>127</td>\n",
       "      <td>120</td>\n",
       "      <td>108</td>\n",
       "    </tr>\n",
       "    <tr>\n",
       "      <th>2</th>\n",
       "      <td>Coarse Cereals</td>\n",
       "      <td>100</td>\n",
       "      <td>107</td>\n",
       "      <td>110</td>\n",
       "      <td>115</td>\n",
       "      <td>113</td>\n",
       "      <td>123</td>\n",
       "      <td>122</td>\n",
       "      <td>136</td>\n",
       "    </tr>\n",
       "    <tr>\n",
       "      <th>3</th>\n",
       "      <td>Pulses</td>\n",
       "      <td>100</td>\n",
       "      <td>108</td>\n",
       "      <td>134</td>\n",
       "      <td>124</td>\n",
       "      <td>124</td>\n",
       "      <td>146</td>\n",
       "      <td>137</td>\n",
       "      <td>129</td>\n",
       "    </tr>\n",
       "    <tr>\n",
       "      <th>4</th>\n",
       "      <td>Vegetables</td>\n",
       "      <td>100</td>\n",
       "      <td>109</td>\n",
       "      <td>103</td>\n",
       "      <td>118</td>\n",
       "      <td>113</td>\n",
       "      <td>124</td>\n",
       "      <td>128</td>\n",
       "      <td>115</td>\n",
       "    </tr>\n",
       "    <tr>\n",
       "      <th>5</th>\n",
       "      <td>Fruits</td>\n",
       "      <td>100</td>\n",
       "      <td>99</td>\n",
       "      <td>99</td>\n",
       "      <td>98</td>\n",
       "      <td>102</td>\n",
       "      <td>104</td>\n",
       "      <td>114</td>\n",
       "      <td>119</td>\n",
       "    </tr>\n",
       "    <tr>\n",
       "      <th>6</th>\n",
       "      <td>Milk</td>\n",
       "      <td>100</td>\n",
       "      <td>97</td>\n",
       "      <td>98</td>\n",
       "      <td>98</td>\n",
       "      <td>98</td>\n",
       "      <td>112</td>\n",
       "      <td>123</td>\n",
       "      <td>124</td>\n",
       "    </tr>\n",
       "    <tr>\n",
       "      <th>7</th>\n",
       "      <td>Eggs, Fish and Meat</td>\n",
       "      <td>100</td>\n",
       "      <td>102</td>\n",
       "      <td>101</td>\n",
       "      <td>100</td>\n",
       "      <td>99</td>\n",
       "      <td>116</td>\n",
       "      <td>133</td>\n",
       "      <td>137</td>\n",
       "    </tr>\n",
       "    <tr>\n",
       "      <th>8</th>\n",
       "      <td>Oilseeds</td>\n",
       "      <td>100</td>\n",
       "      <td>86</td>\n",
       "      <td>85</td>\n",
       "      <td>97</td>\n",
       "      <td>104</td>\n",
       "      <td>103</td>\n",
       "      <td>99</td>\n",
       "      <td>102</td>\n",
       "    </tr>\n",
       "    <tr>\n",
       "      <th>9</th>\n",
       "      <td>Sugarcane</td>\n",
       "      <td>100</td>\n",
       "      <td>96</td>\n",
       "      <td>91</td>\n",
       "      <td>87</td>\n",
       "      <td>80</td>\n",
       "      <td>81</td>\n",
       "      <td>109</td>\n",
       "      <td>107</td>\n",
       "    </tr>\n",
       "    <tr>\n",
       "      <th>10</th>\n",
       "      <td>Fibers</td>\n",
       "      <td>100</td>\n",
       "      <td>92</td>\n",
       "      <td>91</td>\n",
       "      <td>96</td>\n",
       "      <td>109</td>\n",
       "      <td>107</td>\n",
       "      <td>138</td>\n",
       "      <td>140</td>\n",
       "    </tr>\n",
       "    <tr>\n",
       "      <th>11</th>\n",
       "      <td>All Agriculture</td>\n",
       "      <td>100</td>\n",
       "      <td>99</td>\n",
       "      <td>101</td>\n",
       "      <td>104</td>\n",
       "      <td>106</td>\n",
       "      <td>115</td>\n",
       "      <td>123</td>\n",
       "      <td>122</td>\n",
       "    </tr>\n",
       "  </tbody>\n",
       "</table>\n",
       "</div>"
      ],
      "text/plain": [
       "                   Crop  2004-05  2005-06  2006-07  2007-08  2008-09  2009-10  \\\n",
       "0                  Rice      100      101       99      105      112      121   \n",
       "1                 Wheat      100      101      112      115      117      127   \n",
       "2        Coarse Cereals      100      107      110      115      113      123   \n",
       "3                Pulses      100      108      134      124      124      146   \n",
       "4           Vegetables       100      109      103      118      113      124   \n",
       "5                Fruits      100       99       99       98      102      104   \n",
       "6                  Milk      100       97       98       98       98      112   \n",
       "7   Eggs, Fish and Meat      100      102      101      100       99      116   \n",
       "8              Oilseeds      100       86       85       97      104      103   \n",
       "9            Sugarcane       100       96       91       87       80       81   \n",
       "10               Fibers      100       92       91       96      109      107   \n",
       "11      All Agriculture      100       99      101      104      106      115   \n",
       "\n",
       "    2010-11  2011-12  \n",
       "0       117      110  \n",
       "1       120      108  \n",
       "2       122      136  \n",
       "3       137      129  \n",
       "4       128      115  \n",
       "5       114      119  \n",
       "6       123      124  \n",
       "7       133      137  \n",
       "8        99      102  \n",
       "9       109      107  \n",
       "10      138      140  \n",
       "11      123      122  "
      ]
     },
     "execution_count": 3,
     "metadata": {},
     "output_type": "execute_result"
    }
   ],
   "source": [
    "#Data Preprocessing\n",
    "data"
   ]
  },
  {
   "cell_type": "code",
   "execution_count": 4,
   "id": "cc55066e",
   "metadata": {},
   "outputs": [
    {
     "data": {
      "text/html": [
       "<div>\n",
       "<style scoped>\n",
       "    .dataframe tbody tr th:only-of-type {\n",
       "        vertical-align: middle;\n",
       "    }\n",
       "\n",
       "    .dataframe tbody tr th {\n",
       "        vertical-align: top;\n",
       "    }\n",
       "\n",
       "    .dataframe thead th {\n",
       "        text-align: right;\n",
       "    }\n",
       "</style>\n",
       "<table border=\"1\" class=\"dataframe\">\n",
       "  <thead>\n",
       "    <tr style=\"text-align: right;\">\n",
       "      <th></th>\n",
       "      <th>Crop</th>\n",
       "      <th>2004-05</th>\n",
       "      <th>2005-06</th>\n",
       "      <th>2006-07</th>\n",
       "      <th>2007-08</th>\n",
       "      <th>2008-09</th>\n",
       "      <th>2009-10</th>\n",
       "      <th>2010-11</th>\n",
       "      <th>2011-12</th>\n",
       "    </tr>\n",
       "  </thead>\n",
       "  <tbody>\n",
       "    <tr>\n",
       "      <th>7</th>\n",
       "      <td>Eggs, Fish and Meat</td>\n",
       "      <td>100</td>\n",
       "      <td>102</td>\n",
       "      <td>101</td>\n",
       "      <td>100</td>\n",
       "      <td>99</td>\n",
       "      <td>116</td>\n",
       "      <td>133</td>\n",
       "      <td>137</td>\n",
       "    </tr>\n",
       "    <tr>\n",
       "      <th>8</th>\n",
       "      <td>Oilseeds</td>\n",
       "      <td>100</td>\n",
       "      <td>86</td>\n",
       "      <td>85</td>\n",
       "      <td>97</td>\n",
       "      <td>104</td>\n",
       "      <td>103</td>\n",
       "      <td>99</td>\n",
       "      <td>102</td>\n",
       "    </tr>\n",
       "    <tr>\n",
       "      <th>9</th>\n",
       "      <td>Sugarcane</td>\n",
       "      <td>100</td>\n",
       "      <td>96</td>\n",
       "      <td>91</td>\n",
       "      <td>87</td>\n",
       "      <td>80</td>\n",
       "      <td>81</td>\n",
       "      <td>109</td>\n",
       "      <td>107</td>\n",
       "    </tr>\n",
       "    <tr>\n",
       "      <th>10</th>\n",
       "      <td>Fibers</td>\n",
       "      <td>100</td>\n",
       "      <td>92</td>\n",
       "      <td>91</td>\n",
       "      <td>96</td>\n",
       "      <td>109</td>\n",
       "      <td>107</td>\n",
       "      <td>138</td>\n",
       "      <td>140</td>\n",
       "    </tr>\n",
       "    <tr>\n",
       "      <th>11</th>\n",
       "      <td>All Agriculture</td>\n",
       "      <td>100</td>\n",
       "      <td>99</td>\n",
       "      <td>101</td>\n",
       "      <td>104</td>\n",
       "      <td>106</td>\n",
       "      <td>115</td>\n",
       "      <td>123</td>\n",
       "      <td>122</td>\n",
       "    </tr>\n",
       "  </tbody>\n",
       "</table>\n",
       "</div>"
      ],
      "text/plain": [
       "                   Crop  2004-05  2005-06  2006-07  2007-08  2008-09  2009-10  \\\n",
       "7   Eggs, Fish and Meat      100      102      101      100       99      116   \n",
       "8              Oilseeds      100       86       85       97      104      103   \n",
       "9            Sugarcane       100       96       91       87       80       81   \n",
       "10               Fibers      100       92       91       96      109      107   \n",
       "11      All Agriculture      100       99      101      104      106      115   \n",
       "\n",
       "    2010-11  2011-12  \n",
       "7       133      137  \n",
       "8        99      102  \n",
       "9       109      107  \n",
       "10      138      140  \n",
       "11      123      122  "
      ]
     },
     "execution_count": 4,
     "metadata": {},
     "output_type": "execute_result"
    }
   ],
   "source": [
    "data.tail()"
   ]
  },
  {
   "cell_type": "code",
   "execution_count": 5,
   "id": "40fc44ca",
   "metadata": {},
   "outputs": [
    {
     "data": {
      "text/html": [
       "<div>\n",
       "<style scoped>\n",
       "    .dataframe tbody tr th:only-of-type {\n",
       "        vertical-align: middle;\n",
       "    }\n",
       "\n",
       "    .dataframe tbody tr th {\n",
       "        vertical-align: top;\n",
       "    }\n",
       "\n",
       "    .dataframe thead th {\n",
       "        text-align: right;\n",
       "    }\n",
       "</style>\n",
       "<table border=\"1\" class=\"dataframe\">\n",
       "  <thead>\n",
       "    <tr style=\"text-align: right;\">\n",
       "      <th></th>\n",
       "      <th>Crop</th>\n",
       "      <th>2004-05</th>\n",
       "      <th>2005-06</th>\n",
       "      <th>2006-07</th>\n",
       "      <th>2007-08</th>\n",
       "      <th>2008-09</th>\n",
       "      <th>2009-10</th>\n",
       "      <th>2010-11</th>\n",
       "      <th>2011-12</th>\n",
       "    </tr>\n",
       "  </thead>\n",
       "  <tbody>\n",
       "    <tr>\n",
       "      <th>0</th>\n",
       "      <td>Rice</td>\n",
       "      <td>100</td>\n",
       "      <td>101</td>\n",
       "      <td>99</td>\n",
       "      <td>105</td>\n",
       "      <td>112</td>\n",
       "      <td>121</td>\n",
       "      <td>117</td>\n",
       "      <td>110</td>\n",
       "    </tr>\n",
       "    <tr>\n",
       "      <th>1</th>\n",
       "      <td>Wheat</td>\n",
       "      <td>100</td>\n",
       "      <td>101</td>\n",
       "      <td>112</td>\n",
       "      <td>115</td>\n",
       "      <td>117</td>\n",
       "      <td>127</td>\n",
       "      <td>120</td>\n",
       "      <td>108</td>\n",
       "    </tr>\n",
       "    <tr>\n",
       "      <th>2</th>\n",
       "      <td>Coarse Cereals</td>\n",
       "      <td>100</td>\n",
       "      <td>107</td>\n",
       "      <td>110</td>\n",
       "      <td>115</td>\n",
       "      <td>113</td>\n",
       "      <td>123</td>\n",
       "      <td>122</td>\n",
       "      <td>136</td>\n",
       "    </tr>\n",
       "    <tr>\n",
       "      <th>3</th>\n",
       "      <td>Pulses</td>\n",
       "      <td>100</td>\n",
       "      <td>108</td>\n",
       "      <td>134</td>\n",
       "      <td>124</td>\n",
       "      <td>124</td>\n",
       "      <td>146</td>\n",
       "      <td>137</td>\n",
       "      <td>129</td>\n",
       "    </tr>\n",
       "    <tr>\n",
       "      <th>4</th>\n",
       "      <td>Vegetables</td>\n",
       "      <td>100</td>\n",
       "      <td>109</td>\n",
       "      <td>103</td>\n",
       "      <td>118</td>\n",
       "      <td>113</td>\n",
       "      <td>124</td>\n",
       "      <td>128</td>\n",
       "      <td>115</td>\n",
       "    </tr>\n",
       "  </tbody>\n",
       "</table>\n",
       "</div>"
      ],
      "text/plain": [
       "             Crop  2004-05  2005-06  2006-07  2007-08  2008-09  2009-10  \\\n",
       "0            Rice      100      101       99      105      112      121   \n",
       "1           Wheat      100      101      112      115      117      127   \n",
       "2  Coarse Cereals      100      107      110      115      113      123   \n",
       "3          Pulses      100      108      134      124      124      146   \n",
       "4     Vegetables       100      109      103      118      113      124   \n",
       "\n",
       "   2010-11  2011-12  \n",
       "0      117      110  \n",
       "1      120      108  \n",
       "2      122      136  \n",
       "3      137      129  \n",
       "4      128      115  "
      ]
     },
     "execution_count": 5,
     "metadata": {},
     "output_type": "execute_result"
    }
   ],
   "source": [
    "data.head()"
   ]
  },
  {
   "cell_type": "code",
   "execution_count": 6,
   "id": "2b9a25e5",
   "metadata": {},
   "outputs": [
    {
     "data": {
      "text/plain": [
       "Index(['Crop', '2004-05', '2005-06', '2006-07', '2007-08', '2008-09',\n",
       "       '2009-10', '2010-11', '2011-12'],\n",
       "      dtype='object')"
      ]
     },
     "execution_count": 6,
     "metadata": {},
     "output_type": "execute_result"
    }
   ],
   "source": [
    "data.columns"
   ]
  },
  {
   "cell_type": "code",
   "execution_count": 7,
   "id": "733440b8",
   "metadata": {},
   "outputs": [
    {
     "data": {
      "text/html": [
       "<div>\n",
       "<style scoped>\n",
       "    .dataframe tbody tr th:only-of-type {\n",
       "        vertical-align: middle;\n",
       "    }\n",
       "\n",
       "    .dataframe tbody tr th {\n",
       "        vertical-align: top;\n",
       "    }\n",
       "\n",
       "    .dataframe thead th {\n",
       "        text-align: right;\n",
       "    }\n",
       "</style>\n",
       "<table border=\"1\" class=\"dataframe\">\n",
       "  <thead>\n",
       "    <tr style=\"text-align: right;\">\n",
       "      <th></th>\n",
       "      <th>2004-05</th>\n",
       "      <th>2005-06</th>\n",
       "      <th>2006-07</th>\n",
       "      <th>2007-08</th>\n",
       "      <th>2008-09</th>\n",
       "      <th>2009-10</th>\n",
       "      <th>2010-11</th>\n",
       "      <th>2011-12</th>\n",
       "    </tr>\n",
       "  </thead>\n",
       "  <tbody>\n",
       "    <tr>\n",
       "      <th>count</th>\n",
       "      <td>12.0</td>\n",
       "      <td>12.00000</td>\n",
       "      <td>12.000000</td>\n",
       "      <td>12.000000</td>\n",
       "      <td>12.000000</td>\n",
       "      <td>12.000000</td>\n",
       "      <td>12.000000</td>\n",
       "      <td>12.000000</td>\n",
       "    </tr>\n",
       "    <tr>\n",
       "      <th>mean</th>\n",
       "      <td>100.0</td>\n",
       "      <td>99.75000</td>\n",
       "      <td>102.000000</td>\n",
       "      <td>104.750000</td>\n",
       "      <td>106.416667</td>\n",
       "      <td>114.916667</td>\n",
       "      <td>121.916667</td>\n",
       "      <td>120.750000</td>\n",
       "    </tr>\n",
       "    <tr>\n",
       "      <th>std</th>\n",
       "      <td>0.0</td>\n",
       "      <td>6.64865</td>\n",
       "      <td>12.634728</td>\n",
       "      <td>10.963783</td>\n",
       "      <td>11.261022</td>\n",
       "      <td>15.900019</td>\n",
       "      <td>11.405408</td>\n",
       "      <td>12.800036</td>\n",
       "    </tr>\n",
       "    <tr>\n",
       "      <th>min</th>\n",
       "      <td>100.0</td>\n",
       "      <td>86.00000</td>\n",
       "      <td>85.000000</td>\n",
       "      <td>87.000000</td>\n",
       "      <td>80.000000</td>\n",
       "      <td>81.000000</td>\n",
       "      <td>99.000000</td>\n",
       "      <td>102.000000</td>\n",
       "    </tr>\n",
       "    <tr>\n",
       "      <th>25%</th>\n",
       "      <td>100.0</td>\n",
       "      <td>96.75000</td>\n",
       "      <td>96.250000</td>\n",
       "      <td>97.750000</td>\n",
       "      <td>101.250000</td>\n",
       "      <td>106.250000</td>\n",
       "      <td>116.250000</td>\n",
       "      <td>109.500000</td>\n",
       "    </tr>\n",
       "    <tr>\n",
       "      <th>50%</th>\n",
       "      <td>100.0</td>\n",
       "      <td>100.00000</td>\n",
       "      <td>100.000000</td>\n",
       "      <td>102.000000</td>\n",
       "      <td>107.500000</td>\n",
       "      <td>115.500000</td>\n",
       "      <td>122.500000</td>\n",
       "      <td>120.500000</td>\n",
       "    </tr>\n",
       "    <tr>\n",
       "      <th>75%</th>\n",
       "      <td>100.0</td>\n",
       "      <td>103.25000</td>\n",
       "      <td>104.750000</td>\n",
       "      <td>115.000000</td>\n",
       "      <td>113.000000</td>\n",
       "      <td>123.250000</td>\n",
       "      <td>129.250000</td>\n",
       "      <td>130.750000</td>\n",
       "    </tr>\n",
       "    <tr>\n",
       "      <th>max</th>\n",
       "      <td>100.0</td>\n",
       "      <td>109.00000</td>\n",
       "      <td>134.000000</td>\n",
       "      <td>124.000000</td>\n",
       "      <td>124.000000</td>\n",
       "      <td>146.000000</td>\n",
       "      <td>138.000000</td>\n",
       "      <td>140.000000</td>\n",
       "    </tr>\n",
       "  </tbody>\n",
       "</table>\n",
       "</div>"
      ],
      "text/plain": [
       "       2004-05    2005-06     2006-07     2007-08     2008-09     2009-10  \\\n",
       "count     12.0   12.00000   12.000000   12.000000   12.000000   12.000000   \n",
       "mean     100.0   99.75000  102.000000  104.750000  106.416667  114.916667   \n",
       "std        0.0    6.64865   12.634728   10.963783   11.261022   15.900019   \n",
       "min      100.0   86.00000   85.000000   87.000000   80.000000   81.000000   \n",
       "25%      100.0   96.75000   96.250000   97.750000  101.250000  106.250000   \n",
       "50%      100.0  100.00000  100.000000  102.000000  107.500000  115.500000   \n",
       "75%      100.0  103.25000  104.750000  115.000000  113.000000  123.250000   \n",
       "max      100.0  109.00000  134.000000  124.000000  124.000000  146.000000   \n",
       "\n",
       "          2010-11     2011-12  \n",
       "count   12.000000   12.000000  \n",
       "mean   121.916667  120.750000  \n",
       "std     11.405408   12.800036  \n",
       "min     99.000000  102.000000  \n",
       "25%    116.250000  109.500000  \n",
       "50%    122.500000  120.500000  \n",
       "75%    129.250000  130.750000  \n",
       "max    138.000000  140.000000  "
      ]
     },
     "execution_count": 7,
     "metadata": {},
     "output_type": "execute_result"
    }
   ],
   "source": [
    "\n",
    "data.describe()"
   ]
  },
  {
   "cell_type": "code",
   "execution_count": 8,
   "id": "29d607a3",
   "metadata": {},
   "outputs": [
    {
     "data": {
      "text/plain": [
       "Crop       0\n",
       "2004-05    0\n",
       "2005-06    0\n",
       "2006-07    0\n",
       "2007-08    0\n",
       "2008-09    0\n",
       "2009-10    0\n",
       "2010-11    0\n",
       "2011-12    0\n",
       "dtype: int64"
      ]
     },
     "execution_count": 8,
     "metadata": {},
     "output_type": "execute_result"
    }
   ],
   "source": [
    "#checking the null values\n",
    "data.isnull().sum()"
   ]
  },
  {
   "cell_type": "code",
   "execution_count": 9,
   "id": "58c9fe84",
   "metadata": {},
   "outputs": [
    {
     "data": {
      "text/plain": [
       "str"
      ]
     },
     "execution_count": 9,
     "metadata": {},
     "output_type": "execute_result"
    }
   ],
   "source": [
    "type(data['Crop'].iloc[0])"
   ]
  },
  {
   "cell_type": "code",
   "execution_count": 10,
   "id": "50865793",
   "metadata": {},
   "outputs": [
    {
     "data": {
      "text/plain": [
       "array(['Rice', 'Wheat', 'Coarse Cereals', 'Pulses', 'Vegetables ',\n",
       "       'Fruits', 'Milk', 'Eggs, Fish and Meat', 'Oilseeds', 'Sugarcane ',\n",
       "       'Fibers', 'All Agriculture'], dtype=object)"
      ]
     },
     "execution_count": 10,
     "metadata": {},
     "output_type": "execute_result"
    }
   ],
   "source": [
    "#checking the unique arrays in the row\n",
    "data['Crop'].unique()"
   ]
  },
  {
   "cell_type": "code",
   "execution_count": 11,
   "id": "db954405",
   "metadata": {},
   "outputs": [],
   "source": [
    "#converting string to numerical values\n",
    "data['Crop']=data['Crop'].map({'Rice':0,'Wheat':1,'Coarse Cereals':2,'Pulses':3,'Vegetables ':4,'Fruits':5,'Milk':6,\n",
    "     'Eggs, Fish and Meat':7,'Oilseeds':8,'Sugarcane ':9,'Fibers':10,'All Agriculture':11})"
   ]
  },
  {
   "cell_type": "code",
   "execution_count": 12,
   "id": "1c6fc4e7",
   "metadata": {
    "scrolled": true
   },
   "outputs": [
    {
     "data": {
      "text/html": [
       "<div>\n",
       "<style scoped>\n",
       "    .dataframe tbody tr th:only-of-type {\n",
       "        vertical-align: middle;\n",
       "    }\n",
       "\n",
       "    .dataframe tbody tr th {\n",
       "        vertical-align: top;\n",
       "    }\n",
       "\n",
       "    .dataframe thead th {\n",
       "        text-align: right;\n",
       "    }\n",
       "</style>\n",
       "<table border=\"1\" class=\"dataframe\">\n",
       "  <thead>\n",
       "    <tr style=\"text-align: right;\">\n",
       "      <th></th>\n",
       "      <th>Crop</th>\n",
       "      <th>2004-05</th>\n",
       "      <th>2005-06</th>\n",
       "      <th>2006-07</th>\n",
       "      <th>2007-08</th>\n",
       "      <th>2008-09</th>\n",
       "      <th>2009-10</th>\n",
       "      <th>2010-11</th>\n",
       "      <th>2011-12</th>\n",
       "    </tr>\n",
       "  </thead>\n",
       "  <tbody>\n",
       "    <tr>\n",
       "      <th>0</th>\n",
       "      <td>0</td>\n",
       "      <td>100</td>\n",
       "      <td>101</td>\n",
       "      <td>99</td>\n",
       "      <td>105</td>\n",
       "      <td>112</td>\n",
       "      <td>121</td>\n",
       "      <td>117</td>\n",
       "      <td>110</td>\n",
       "    </tr>\n",
       "    <tr>\n",
       "      <th>1</th>\n",
       "      <td>1</td>\n",
       "      <td>100</td>\n",
       "      <td>101</td>\n",
       "      <td>112</td>\n",
       "      <td>115</td>\n",
       "      <td>117</td>\n",
       "      <td>127</td>\n",
       "      <td>120</td>\n",
       "      <td>108</td>\n",
       "    </tr>\n",
       "    <tr>\n",
       "      <th>2</th>\n",
       "      <td>2</td>\n",
       "      <td>100</td>\n",
       "      <td>107</td>\n",
       "      <td>110</td>\n",
       "      <td>115</td>\n",
       "      <td>113</td>\n",
       "      <td>123</td>\n",
       "      <td>122</td>\n",
       "      <td>136</td>\n",
       "    </tr>\n",
       "    <tr>\n",
       "      <th>3</th>\n",
       "      <td>3</td>\n",
       "      <td>100</td>\n",
       "      <td>108</td>\n",
       "      <td>134</td>\n",
       "      <td>124</td>\n",
       "      <td>124</td>\n",
       "      <td>146</td>\n",
       "      <td>137</td>\n",
       "      <td>129</td>\n",
       "    </tr>\n",
       "    <tr>\n",
       "      <th>4</th>\n",
       "      <td>4</td>\n",
       "      <td>100</td>\n",
       "      <td>109</td>\n",
       "      <td>103</td>\n",
       "      <td>118</td>\n",
       "      <td>113</td>\n",
       "      <td>124</td>\n",
       "      <td>128</td>\n",
       "      <td>115</td>\n",
       "    </tr>\n",
       "    <tr>\n",
       "      <th>5</th>\n",
       "      <td>5</td>\n",
       "      <td>100</td>\n",
       "      <td>99</td>\n",
       "      <td>99</td>\n",
       "      <td>98</td>\n",
       "      <td>102</td>\n",
       "      <td>104</td>\n",
       "      <td>114</td>\n",
       "      <td>119</td>\n",
       "    </tr>\n",
       "    <tr>\n",
       "      <th>6</th>\n",
       "      <td>6</td>\n",
       "      <td>100</td>\n",
       "      <td>97</td>\n",
       "      <td>98</td>\n",
       "      <td>98</td>\n",
       "      <td>98</td>\n",
       "      <td>112</td>\n",
       "      <td>123</td>\n",
       "      <td>124</td>\n",
       "    </tr>\n",
       "    <tr>\n",
       "      <th>7</th>\n",
       "      <td>7</td>\n",
       "      <td>100</td>\n",
       "      <td>102</td>\n",
       "      <td>101</td>\n",
       "      <td>100</td>\n",
       "      <td>99</td>\n",
       "      <td>116</td>\n",
       "      <td>133</td>\n",
       "      <td>137</td>\n",
       "    </tr>\n",
       "    <tr>\n",
       "      <th>8</th>\n",
       "      <td>8</td>\n",
       "      <td>100</td>\n",
       "      <td>86</td>\n",
       "      <td>85</td>\n",
       "      <td>97</td>\n",
       "      <td>104</td>\n",
       "      <td>103</td>\n",
       "      <td>99</td>\n",
       "      <td>102</td>\n",
       "    </tr>\n",
       "    <tr>\n",
       "      <th>9</th>\n",
       "      <td>9</td>\n",
       "      <td>100</td>\n",
       "      <td>96</td>\n",
       "      <td>91</td>\n",
       "      <td>87</td>\n",
       "      <td>80</td>\n",
       "      <td>81</td>\n",
       "      <td>109</td>\n",
       "      <td>107</td>\n",
       "    </tr>\n",
       "    <tr>\n",
       "      <th>10</th>\n",
       "      <td>10</td>\n",
       "      <td>100</td>\n",
       "      <td>92</td>\n",
       "      <td>91</td>\n",
       "      <td>96</td>\n",
       "      <td>109</td>\n",
       "      <td>107</td>\n",
       "      <td>138</td>\n",
       "      <td>140</td>\n",
       "    </tr>\n",
       "    <tr>\n",
       "      <th>11</th>\n",
       "      <td>11</td>\n",
       "      <td>100</td>\n",
       "      <td>99</td>\n",
       "      <td>101</td>\n",
       "      <td>104</td>\n",
       "      <td>106</td>\n",
       "      <td>115</td>\n",
       "      <td>123</td>\n",
       "      <td>122</td>\n",
       "    </tr>\n",
       "  </tbody>\n",
       "</table>\n",
       "</div>"
      ],
      "text/plain": [
       "    Crop  2004-05  2005-06  2006-07  2007-08  2008-09  2009-10  2010-11  \\\n",
       "0      0      100      101       99      105      112      121      117   \n",
       "1      1      100      101      112      115      117      127      120   \n",
       "2      2      100      107      110      115      113      123      122   \n",
       "3      3      100      108      134      124      124      146      137   \n",
       "4      4      100      109      103      118      113      124      128   \n",
       "5      5      100       99       99       98      102      104      114   \n",
       "6      6      100       97       98       98       98      112      123   \n",
       "7      7      100      102      101      100       99      116      133   \n",
       "8      8      100       86       85       97      104      103       99   \n",
       "9      9      100       96       91       87       80       81      109   \n",
       "10    10      100       92       91       96      109      107      138   \n",
       "11    11      100       99      101      104      106      115      123   \n",
       "\n",
       "    2011-12  \n",
       "0       110  \n",
       "1       108  \n",
       "2       136  \n",
       "3       129  \n",
       "4       115  \n",
       "5       119  \n",
       "6       124  \n",
       "7       137  \n",
       "8       102  \n",
       "9       107  \n",
       "10      140  \n",
       "11      122  "
      ]
     },
     "execution_count": 12,
     "metadata": {},
     "output_type": "execute_result"
    }
   ],
   "source": [
    "data"
   ]
  },
  {
   "cell_type": "raw",
   "id": "2c10d6c2",
   "metadata": {},
   "source": [
    "Data Visualization"
   ]
  },
  {
   "cell_type": "code",
   "execution_count": 13,
   "id": "5846034a",
   "metadata": {
    "scrolled": true
   },
   "outputs": [
    {
     "data": {
      "text/plain": [
       "<seaborn.axisgrid.PairGrid at 0x1a00d61eee0>"
      ]
     },
     "execution_count": 13,
     "metadata": {},
     "output_type": "execute_result"
    },
    {
     "data": {
      "image/png": "[encoded data removed]",
      "text/plain": [
       "<Figure size 1620x1620 with 90 Axes>"
      ]
     },
     "metadata": {
      "needs_background": "light"
     },
     "output_type": "display_data"
    }
   ],
   "source": [
    "sns.pairplot(data)"
   ]
  },
  {
   "cell_type": "code",
   "execution_count": 14,
   "id": "9a125aa3",
   "metadata": {
    "scrolled": true
   },
   "outputs": [
    {
     "data": {
      "text/plain": [
       "<AxesSubplot:>"
      ]
     },
     "execution_count": 14,
     "metadata": {},
     "output_type": "execute_result"
    },
    {
     "data": {
      "image/png": "[encoded data removed]",
      "text/plain": [
       "<Figure size 432x288 with 2 Axes>"
      ]
     },
     "metadata": {
      "needs_background": "light"
     },
     "output_type": "display_data"
    }
   ],
   "source": [
    "sns.heatmap(data.corr(),annot=True)"
   ]
  },
  {
   "cell_type": "code",
   "execution_count": 15,
   "id": "5635d3b2",
   "metadata": {
    "scrolled": true
   },
   "outputs": [
    {
     "data": {
      "text/plain": [
       "<AxesSubplot:xlabel='Crop', ylabel='2004-05'>"
      ]
     },
     "execution_count": 15,
     "metadata": {},
     "output_type": "execute_result"
    },
    {
     "data": {
      "image/png": "[encoded data removed]",
      "text/plain": [
       "<Figure size 432x288 with 1 Axes>"
      ]
     },
     "metadata": {
      "needs_background": "light"
     },
     "output_type": "display_data"
    }
   ],
   "source": [
    "sns.barplot(x='Crop',y='2004-05',data=data)"
   ]
  },
  {
   "cell_type": "code",
   "execution_count": 16,
   "id": "9183d60b",
   "metadata": {},
   "outputs": [
    {
     "data": {
      "text/plain": [
       "<AxesSubplot:xlabel='Crop', ylabel='2005-06'>"
      ]
     },
     "execution_count": 16,
     "metadata": {},
     "output_type": "execute_result"
    },
    {
     "data": {
      "image/png": "[encoded data removed]",
      "text/plain": [
       "<Figure size 432x288 with 1 Axes>"
      ]
     },
     "metadata": {
      "needs_background": "light"
     },
     "output_type": "display_data"
    }
   ],
   "source": [
    "sns.barplot(x='Crop',y='2005-06',data=data)"
   ]
  },
  {
   "cell_type": "code",
   "execution_count": 17,
   "id": "1ea5e867",
   "metadata": {},
   "outputs": [
    {
     "data": {
      "text/plain": [
       "<AxesSubplot:xlabel='Crop', ylabel='2006-07'>"
      ]
     },
     "execution_count": 17,
     "metadata": {},
     "output_type": "execute_result"
    },
    {
     "data": {
      "image/png": "[encoded data removed]",
      "text/plain": [
       "<Figure size 432x288 with 1 Axes>"
      ]
     },
     "metadata": {
      "needs_background": "light"
     },
     "output_type": "display_data"
    }
   ],
   "source": [
    "sns.barplot(x='Crop',y='2006-07',data=data)"
   ]
  },
  {
   "cell_type": "code",
   "execution_count": 18,
   "id": "2c68b6ab",
   "metadata": {
    "scrolled": true
   },
   "outputs": [
    {
     "data": {
      "text/plain": [
       "<AxesSubplot:xlabel='Crop', ylabel='2006-07'>"
      ]
     },
     "execution_count": 18,
     "metadata": {},
     "output_type": "execute_result"
    },
    {
     "data": {
      "image/png": "[encoded data removed]",
      "text/plain": [
       "<Figure size 432x288 with 1 Axes>"
      ]
     },
     "metadata": {
      "needs_background": "light"
     },
     "output_type": "display_data"
    }
   ],
   "source": [
    "sns.barplot(x='Crop',y='2006-07',data=data)"
   ]
  },
  {
   "cell_type": "code",
   "execution_count": 19,
   "id": "2348464a",
   "metadata": {},
   "outputs": [
    {
     "data": {
      "text/plain": [
       "<AxesSubplot:xlabel='Crop', ylabel='2008-09'>"
      ]
     },
     "execution_count": 19,
     "metadata": {},
     "output_type": "execute_result"
    },
    {
     "data": {
      "image/png": "[encoded data removed]",
      "text/plain": [
       "<Figure size 432x288 with 1 Axes>"
      ]
     },
     "metadata": {
      "needs_background": "light"
     },
     "output_type": "display_data"
    }
   ],
   "source": [
    "sns.barplot(x='Crop',y='2008-09',data=data)"
   ]
  },
  {
   "cell_type": "code",
   "execution_count": 20,
   "id": "cc1df222",
   "metadata": {},
   "outputs": [
    {
     "data": {
      "text/plain": [
       "<AxesSubplot:xlabel='Crop', ylabel='2009-10'>"
      ]
     },
     "execution_count": 20,
     "metadata": {},
     "output_type": "execute_result"
    },
    {
     "data": {
      "image/png": "[encoded data removed]",
      "text/plain": [
       "<Figure size 432x288 with 1 Axes>"
      ]
     },
     "metadata": {
      "needs_background": "light"
     },
     "output_type": "display_data"
    }
   ],
   "source": [
    "sns.barplot(x='Crop',y='2009-10',data=data)"
   ]
  },
  {
   "cell_type": "code",
   "execution_count": 21,
   "id": "a1f0f7b8",
   "metadata": {},
   "outputs": [
    {
     "data": {
      "text/plain": [
       "<AxesSubplot:xlabel='Crop', ylabel='2010-11'>"
      ]
     },
     "execution_count": 21,
     "metadata": {},
     "output_type": "execute_result"
    },
    {
     "data": {
      "image/png": "[encoded data removed]",
      "text/plain": [
       "<Figure size 432x288 with 1 Axes>"
      ]
     },
     "metadata": {
      "needs_background": "light"
     },
     "output_type": "display_data"
    }
   ],
   "source": [
    "sns.barplot(x='Crop',y='2010-11',data=data)"
   ]
  },
  {
   "cell_type": "code",
   "execution_count": 22,
   "id": "24acad64",
   "metadata": {},
   "outputs": [
    {
     "data": {
      "text/plain": [
       "<AxesSubplot:xlabel='Crop', ylabel='2011-12'>"
      ]
     },
     "execution_count": 22,
     "metadata": {},
     "output_type": "execute_result"
    },
    {
     "data": {
      "image/png": "[encoded data removed]",
      "text/plain": [
       "<Figure size 432x288 with 1 Axes>"
      ]
     },
     "metadata": {
      "needs_background": "light"
     },
     "output_type": "display_data"
    }
   ],
   "source": [
    "sns.barplot(x='Crop',y='2011-12',data=data)"
   ]
  },
  {
   "cell_type": "code",
   "execution_count": 23,
   "id": "2ffeb46a",
   "metadata": {
    "scrolled": true
   },
   "outputs": [
    {
     "data": {
      "text/plain": [
       "<AxesSubplot:xlabel='2005-06', ylabel='2006-07'>"
      ]
     },
     "execution_count": 23,
     "metadata": {},
     "output_type": "execute_result"
    },
    {
     "data": {
      "image/png": "[encoded data removed]",
      "text/plain": [
       "<Figure size 432x288 with 1 Axes>"
      ]
     },
     "metadata": {
      "needs_background": "light"
     },
     "output_type": "display_data"
    }
   ],
   "source": [
    "sns.barplot(x='2005-06',y='2006-07',data=data)"
   ]
  },
  {
   "cell_type": "markdown",
   "id": "2ef76578",
   "metadata": {},
   "source": [
    "\n",
    " Training the model"
   ]
  },
  {
   "cell_type": "code",
   "execution_count": 43,
   "id": "523bdb30",
   "metadata": {},
   "outputs": [],
   "source": [
    "#droping the target value\n",
    "lr=data.drop('Crop',axis=1)"
   ]
  },
  {
   "cell_type": "code",
   "execution_count": 44,
   "id": "72529ba1",
   "metadata": {},
   "outputs": [
    {
     "data": {
      "text/html": [
       "<div>\n",
       "<style scoped>\n",
       "    .dataframe tbody tr th:only-of-type {\n",
       "        vertical-align: middle;\n",
       "    }\n",
       "\n",
       "    .dataframe tbody tr th {\n",
       "        vertical-align: top;\n",
       "    }\n",
       "\n",
       "    .dataframe thead th {\n",
       "        text-align: right;\n",
       "    }\n",
       "</style>\n",
       "<table border=\"1\" class=\"dataframe\">\n",
       "  <thead>\n",
       "    <tr style=\"text-align: right;\">\n",
       "      <th></th>\n",
       "      <th>2004-05</th>\n",
       "      <th>2005-06</th>\n",
       "      <th>2006-07</th>\n",
       "      <th>2007-08</th>\n",
       "      <th>2008-09</th>\n",
       "      <th>2009-10</th>\n",
       "      <th>2010-11</th>\n",
       "      <th>2011-12</th>\n",
       "    </tr>\n",
       "  </thead>\n",
       "  <tbody>\n",
       "    <tr>\n",
       "      <th>0</th>\n",
       "      <td>100</td>\n",
       "      <td>101</td>\n",
       "      <td>99</td>\n",
       "      <td>105</td>\n",
       "      <td>112</td>\n",
       "      <td>121</td>\n",
       "      <td>117</td>\n",
       "      <td>110</td>\n",
       "    </tr>\n",
       "    <tr>\n",
       "      <th>1</th>\n",
       "      <td>100</td>\n",
       "      <td>101</td>\n",
       "      <td>112</td>\n",
       "      <td>115</td>\n",
       "      <td>117</td>\n",
       "      <td>127</td>\n",
       "      <td>120</td>\n",
       "      <td>108</td>\n",
       "    </tr>\n",
       "    <tr>\n",
       "      <th>2</th>\n",
       "      <td>100</td>\n",
       "      <td>107</td>\n",
       "      <td>110</td>\n",
       "      <td>115</td>\n",
       "      <td>113</td>\n",
       "      <td>123</td>\n",
       "      <td>122</td>\n",
       "      <td>136</td>\n",
       "    </tr>\n",
       "    <tr>\n",
       "      <th>3</th>\n",
       "      <td>100</td>\n",
       "      <td>108</td>\n",
       "      <td>134</td>\n",
       "      <td>124</td>\n",
       "      <td>124</td>\n",
       "      <td>146</td>\n",
       "      <td>137</td>\n",
       "      <td>129</td>\n",
       "    </tr>\n",
       "    <tr>\n",
       "      <th>4</th>\n",
       "      <td>100</td>\n",
       "      <td>109</td>\n",
       "      <td>103</td>\n",
       "      <td>118</td>\n",
       "      <td>113</td>\n",
       "      <td>124</td>\n",
       "      <td>128</td>\n",
       "      <td>115</td>\n",
       "    </tr>\n",
       "    <tr>\n",
       "      <th>5</th>\n",
       "      <td>100</td>\n",
       "      <td>99</td>\n",
       "      <td>99</td>\n",
       "      <td>98</td>\n",
       "      <td>102</td>\n",
       "      <td>104</td>\n",
       "      <td>114</td>\n",
       "      <td>119</td>\n",
       "    </tr>\n",
       "    <tr>\n",
       "      <th>6</th>\n",
       "      <td>100</td>\n",
       "      <td>97</td>\n",
       "      <td>98</td>\n",
       "      <td>98</td>\n",
       "      <td>98</td>\n",
       "      <td>112</td>\n",
       "      <td>123</td>\n",
       "      <td>124</td>\n",
       "    </tr>\n",
       "    <tr>\n",
       "      <th>7</th>\n",
       "      <td>100</td>\n",
       "      <td>102</td>\n",
       "      <td>101</td>\n",
       "      <td>100</td>\n",
       "      <td>99</td>\n",
       "      <td>116</td>\n",
       "      <td>133</td>\n",
       "      <td>137</td>\n",
       "    </tr>\n",
       "    <tr>\n",
       "      <th>8</th>\n",
       "      <td>100</td>\n",
       "      <td>86</td>\n",
       "      <td>85</td>\n",
       "      <td>97</td>\n",
       "      <td>104</td>\n",
       "      <td>103</td>\n",
       "      <td>99</td>\n",
       "      <td>102</td>\n",
       "    </tr>\n",
       "    <tr>\n",
       "      <th>9</th>\n",
       "      <td>100</td>\n",
       "      <td>96</td>\n",
       "      <td>91</td>\n",
       "      <td>87</td>\n",
       "      <td>80</td>\n",
       "      <td>81</td>\n",
       "      <td>109</td>\n",
       "      <td>107</td>\n",
       "    </tr>\n",
       "    <tr>\n",
       "      <th>10</th>\n",
       "      <td>100</td>\n",
       "      <td>92</td>\n",
       "      <td>91</td>\n",
       "      <td>96</td>\n",
       "      <td>109</td>\n",
       "      <td>107</td>\n",
       "      <td>138</td>\n",
       "      <td>140</td>\n",
       "    </tr>\n",
       "    <tr>\n",
       "      <th>11</th>\n",
       "      <td>100</td>\n",
       "      <td>99</td>\n",
       "      <td>101</td>\n",
       "      <td>104</td>\n",
       "      <td>106</td>\n",
       "      <td>115</td>\n",
       "      <td>123</td>\n",
       "      <td>122</td>\n",
       "    </tr>\n",
       "  </tbody>\n",
       "</table>\n",
       "</div>"
      ],
      "text/plain": [
       "    2004-05  2005-06  2006-07  2007-08  2008-09  2009-10  2010-11  2011-12\n",
       "0       100      101       99      105      112      121      117      110\n",
       "1       100      101      112      115      117      127      120      108\n",
       "2       100      107      110      115      113      123      122      136\n",
       "3       100      108      134      124      124      146      137      129\n",
       "4       100      109      103      118      113      124      128      115\n",
       "5       100       99       99       98      102      104      114      119\n",
       "6       100       97       98       98       98      112      123      124\n",
       "7       100      102      101      100       99      116      133      137\n",
       "8       100       86       85       97      104      103       99      102\n",
       "9       100       96       91       87       80       81      109      107\n",
       "10      100       92       91       96      109      107      138      140\n",
       "11      100       99      101      104      106      115      123      122"
      ]
     },
     "execution_count": 44,
     "metadata": {},
     "output_type": "execute_result"
    }
   ],
   "source": [
    "lr"
   ]
  },
  {
   "cell_type": "code",
   "execution_count": 45,
   "id": "99b99fc2",
   "metadata": {},
   "outputs": [],
   "source": [
    "#loading the target value\n",
    "llr=data['Crop']"
   ]
  },
  {
   "cell_type": "code",
   "execution_count": 46,
   "id": "95af84e7",
   "metadata": {},
   "outputs": [
    {
     "data": {
      "text/plain": [
       "0      0\n",
       "1      1\n",
       "2      2\n",
       "3      3\n",
       "4      4\n",
       "5      5\n",
       "6      6\n",
       "7      7\n",
       "8      8\n",
       "9      9\n",
       "10    10\n",
       "11    11\n",
       "Name: Crop, dtype: int64"
      ]
     },
     "execution_count": 46,
     "metadata": {},
     "output_type": "execute_result"
    }
   ],
   "source": [
    "llr"
   ]
  },
  {
   "cell_type": "code",
   "execution_count": 48,
   "id": "4da461d9",
   "metadata": {},
   "outputs": [],
   "source": [
    "#importing the split function\n",
    "from sklearn.model_selection import train_test_split"
   ]
  },
  {
   "cell_type": "code",
   "execution_count": 49,
   "id": "f8b6c3c1",
   "metadata": {},
   "outputs": [],
   "source": [
    "#loading the feature values and target value in the split finction\n",
    "lr_train,lr_test,llr_train,llr_test=train_test_split(lr,llr,test_size=0.2,shuffle=True)"
   ]
  },
  {
   "cell_type": "code",
   "execution_count": 50,
   "id": "a185b222",
   "metadata": {},
   "outputs": [],
   "source": [
    "#importing the algorithm\n",
    "from sklearn.linear_model import LinearRegression"
   ]
  },
  {
   "cell_type": "code",
   "execution_count": 51,
   "id": "b7d85f3e",
   "metadata": {},
   "outputs": [],
   "source": [
    "model=LinearRegression()"
   ]
  },
  {
   "cell_type": "code",
   "execution_count": 53,
   "id": "1680354b",
   "metadata": {},
   "outputs": [
    {
     "data": {
      "text/plain": [
       "LinearRegression()"
      ]
     },
     "execution_count": 53,
     "metadata": {},
     "output_type": "execute_result"
    }
   ],
   "source": [
    "model.fit(lr,llr)"
   ]
  },
  {
   "cell_type": "code",
   "execution_count": 54,
   "id": "d15159c2",
   "metadata": {},
   "outputs": [],
   "source": [
    "prediction=model.predict(lr_test)"
   ]
  },
  {
   "cell_type": "code",
   "execution_count": 55,
   "id": "b2d6b0cf",
   "metadata": {},
   "outputs": [],
   "source": [
    "from sklearn.metrics import r2_score    "
   ]
  },
  {
   "cell_type": "code",
   "execution_count": 56,
   "id": "403af096",
   "metadata": {},
   "outputs": [
    {
     "data": {
      "text/plain": [
       "0.8686426145779835"
      ]
     },
     "execution_count": 56,
     "metadata": {},
     "output_type": "execute_result"
    }
   ],
   "source": [
    "r2_score(llr_test,prediction)"
   ]
  },
  {
   "cell_type": "code",
   "execution_count": null,
   "id": "96a0ce24",
   "metadata": {},
   "outputs": [],
   "source": []
  }
 ],
 "metadata": {
  "kernelspec": {
   "display_name": "Python 3 (ipykernel)",
   "language": "python",
   "name": "python3"
  },
  "language_info": {
   "codemirror_mode": {
    "name": "ipython",
    "version": 3
   },
   "file_extension": ".py",
   "mimetype": "text/x-python",
   "name": "python",
   "nbconvert_exporter": "python",
   "pygments_lexer": "ipython3",
   "version": "3.9.12"
  }
 },
 "nbformat": 4,
 "nbformat_minor": 5
}
